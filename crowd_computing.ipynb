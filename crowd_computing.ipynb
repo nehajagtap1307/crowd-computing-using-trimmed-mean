{
  "nbformat": 4,
  "nbformat_minor": 0,
  "metadata": {
    "colab": {
      "provenance": []
    },
    "kernelspec": {
      "name": "python3",
      "display_name": "Python 3"
    },
    "language_info": {
      "name": "python"
    }
  },
  "cells": [
    {
      "cell_type": "code",
      "execution_count": 22,
      "metadata": {
        "colab": {
          "base_uri": "https://localhost:8080/"
        },
        "id": "hl67dyRYeaA0",
        "outputId": "6f508f98-ba72-4db9-9dff-cb6b1d926478"
      },
      "outputs": [
        {
          "output_type": "stream",
          "name": "stdout",
          "text": [
            "100 123 179 200 200 230 234 241 250 280 290 300 300 300 300 320 346 380 400 450 500 564 600 678 760 765 789 800 900 962 980 1600 \n",
            "\n",
            "437.5769230769231\n"
          ]
        }
      ],
      "source": [
        "# code for crowd computing using trimmed mean\n",
        "from statistics import mean\n",
        "estimates = [300,400,980,564,789,300,200,678,500,200,250,800,100,900,230,300,450,600,290,320,760,1600,280,380,962,300,346,234,765,123,179,241]\n",
        "estimates.sort()\n",
        "for i in range(len(estimates)):\n",
        "  print(estimates[i],end=\" \")\n",
        "tv=int(0.1*len(estimates))\n",
        "estimates=estimates[tv:len(estimates)-tv]\n",
        "print(\"\\n\")\n",
        "print(mean(estimates))\n",
        "\n",
        "\n",
        "\n",
        "\n",
        "\n"
      ]
    },
    {
      "cell_type": "code",
      "source": [
        "#method 2\n",
        "from scipy import stats\n",
        "estimates = [300,400,980,564,789,300,200,678,500,200,250,800,100,900,230,300,450,600,290,320,760,1600,280,380,962,300,346,234,765,123,179,241]\n",
        "estimates.sort()\n",
        "m=stats.trim_mean(estimates,0.1)\n",
        "print(m)\n",
        "\n"
      ],
      "metadata": {
        "colab": {
          "base_uri": "https://localhost:8080/"
        },
        "id": "uVS6ylVyrx_U",
        "outputId": "fdbec019-d69e-4a80-8ee3-def7b207fb01"
      },
      "execution_count": 23,
      "outputs": [
        {
          "output_type": "stream",
          "name": "stdout",
          "text": [
            "437.5769230769231\n"
          ]
        }
      ]
    },
    {
      "cell_type": "code",
      "source": [],
      "metadata": {
        "id": "MdtVGUmnso3j"
      },
      "execution_count": 29,
      "outputs": []
    }
  ]
}